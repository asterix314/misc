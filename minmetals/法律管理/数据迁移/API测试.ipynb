{
 "cells": [
  {
   "cell_type": "code",
   "execution_count": 26,
   "metadata": {},
   "outputs": [
    {
     "ename": "",
     "evalue": "",
     "output_type": "error",
     "traceback": [
      "\u001b[1;31mRunning cells with 'Python 3.12.7' requires the ipykernel package.\n",
      "\u001b[1;31mRun the following command to install 'ipykernel' into the Python environment. \n",
      "\u001b[1;31mCommand: 'c:/Users/Think/AppData/Local/Programs/Python/Python312/python.exe -m pip install ipykernel -U --user --force-reinstall'"
     ]
    }
   ],
   "source": [
    "import json\n",
    "import base64\n",
    "import requests\n",
    "from Crypto.Cipher import AES\n",
    "import pymysql\n",
    "\n",
    "class AESCipher:\n",
    "    def __init__(self, key):\n",
    "        self.key = key.encode('utf-8')\n",
    "        self.mode = AES.MODE_ECB\n",
    "\n",
    "    def pad(self, data):\n",
    "        block_size = AES.block_size\n",
    "        padding = block_size - len(data) % block_size\n",
    "        return data + (chr(padding) * padding).encode('utf-8')\n",
    "\n",
    "    def unpad(self, data):\n",
    "        return data[:-ord(data[-1])]\n",
    "\n",
    "    def encrypt(self, raw):\n",
    "        raw = self.pad(raw.encode('utf-8'))\n",
    "        cipher = AES.new(self.key, self.mode)\n",
    "        encrypted = base64.b64encode(cipher.encrypt(raw))\n",
    "        return encrypted.decode('utf-8')\n",
    "\n",
    "    def decrypt(self, enc):\n",
    "        enc_bytes = base64.b64decode(enc)\n",
    "        cipher = AES.new(self.key, self.mode)\n",
    "        decrypted = self.unpad(cipher.decrypt(enc_bytes))\n",
    "        return decrypted.decode('utf-8')\n",
    "    \n",
    "api_url = \"https://qyss.cjbdi.com/qyss/qyss/enterlit/queryNewAllCase\"\n",
    "# api_url = \"https://qyss.cjbdi.com/qyss/qyss/enterlit/queryNewLaCase\"\n",
    "key = \"wkjtC@ntdGscsoqc\"\n",
    "ticket = \"1LyM07LLxWpTBFnTqHGMdp1vHqGTYBF9Ck289X7P8ionseKdd62lHH3gxvJPr0wx\"\n",
    "companies = [\"五矿二十三冶建设集团有限公司\", \"中国一冶集团有限公司\", \"中国华冶科工集团有限公司\",\n",
    "             \"长沙五矿商业管理有限公司\"]\n",
    "loginName = \"zgwk\"\n",
    "passWord = \"shesu@2022&0198$\""
   ]
  },
  {
   "cell_type": "code",
   "execution_count": 25,
   "metadata": {},
   "outputs": [
    {
     "name": "stdout",
     "output_type": "stream",
     "text": [
      "decrypt: type of enc: <type 'unicode'>\n"
     ]
    },
    {
     "ename": "UnicodeEncodeError",
     "evalue": "'ascii' codec can't encode characters in position 8-9: ordinal not in range(128)",
     "output_type": "error",
     "traceback": [
      "\u001b[0;31m---------------------------------------------------------------------------\u001b[0m",
      "\u001b[0;31mUnicodeEncodeError\u001b[0m                        Traceback (most recent call last)",
      "\u001b[0;32m<ipython-input-25-81611178796e>\u001b[0m in \u001b[0;36m<module>\u001b[0;34m()\u001b[0m\n\u001b[1;32m     22\u001b[0m \u001b[0;32massert\u001b[0m \u001b[0mresponse\u001b[0m\u001b[0;34m.\u001b[0m\u001b[0mstatus_code\u001b[0m \u001b[0;34m==\u001b[0m \u001b[0;36m200\u001b[0m\u001b[0;34m,\u001b[0m \u001b[0;34m\"Request failed with status code {}\"\u001b[0m\u001b[0;34m.\u001b[0m\u001b[0mformat\u001b[0m\u001b[0;34m(\u001b[0m\u001b[0mresponse\u001b[0m\u001b[0;34m.\u001b[0m\u001b[0mstatus_code\u001b[0m\u001b[0;34m)\u001b[0m\u001b[0;34m\u001b[0m\u001b[0m\n\u001b[1;32m     23\u001b[0m \u001b[0;34m\u001b[0m\u001b[0m\n\u001b[0;32m---> 24\u001b[0;31m \u001b[0mdecrypted_response\u001b[0m \u001b[0;34m=\u001b[0m \u001b[0maes_cipher\u001b[0m\u001b[0;34m.\u001b[0m\u001b[0mdecrypt\u001b[0m\u001b[0;34m(\u001b[0m\u001b[0mresponse\u001b[0m\u001b[0;34m.\u001b[0m\u001b[0mtext\u001b[0m\u001b[0;34m)\u001b[0m\u001b[0;34m\u001b[0m\u001b[0m\n\u001b[0m\u001b[1;32m     25\u001b[0m \u001b[0;34m\u001b[0m\u001b[0m\n\u001b[1;32m     26\u001b[0m \u001b[0;32mprint\u001b[0m \u001b[0mdecrypted_response\u001b[0m\u001b[0;34m\u001b[0m\u001b[0m\n",
      "\u001b[0;32m<ipython-input-24-fa418f1f9ac6>\u001b[0m in \u001b[0;36mdecrypt\u001b[0;34m(self, enc)\u001b[0m\n\u001b[1;32m     26\u001b[0m     \u001b[0;32mdef\u001b[0m \u001b[0mdecrypt\u001b[0m\u001b[0;34m(\u001b[0m\u001b[0mself\u001b[0m\u001b[0;34m,\u001b[0m \u001b[0menc\u001b[0m\u001b[0;34m)\u001b[0m\u001b[0;34m:\u001b[0m\u001b[0;34m\u001b[0m\u001b[0m\n\u001b[1;32m     27\u001b[0m         \u001b[0;32mprint\u001b[0m \u001b[0;34m\"decrypt: type of enc: {}\"\u001b[0m\u001b[0;34m.\u001b[0m\u001b[0mformat\u001b[0m\u001b[0;34m(\u001b[0m\u001b[0mtype\u001b[0m\u001b[0;34m(\u001b[0m\u001b[0menc\u001b[0m\u001b[0;34m)\u001b[0m\u001b[0;34m)\u001b[0m\u001b[0;34m\u001b[0m\u001b[0m\n\u001b[0;32m---> 28\u001b[0;31m         \u001b[0menc_bytes\u001b[0m \u001b[0;34m=\u001b[0m \u001b[0mbase64\u001b[0m\u001b[0;34m.\u001b[0m\u001b[0mb64decode\u001b[0m\u001b[0;34m(\u001b[0m\u001b[0menc\u001b[0m\u001b[0;34m.\u001b[0m\u001b[0mdecode\u001b[0m\u001b[0;34m(\u001b[0m\u001b[0;34m'utf-8'\u001b[0m\u001b[0;34m)\u001b[0m\u001b[0;34m)\u001b[0m\u001b[0;34m\u001b[0m\u001b[0m\n\u001b[0m\u001b[1;32m     29\u001b[0m         \u001b[0mcipher\u001b[0m \u001b[0;34m=\u001b[0m \u001b[0mAES\u001b[0m\u001b[0;34m.\u001b[0m\u001b[0mnew\u001b[0m\u001b[0;34m(\u001b[0m\u001b[0mself\u001b[0m\u001b[0;34m.\u001b[0m\u001b[0mkey\u001b[0m\u001b[0;34m,\u001b[0m \u001b[0mself\u001b[0m\u001b[0;34m.\u001b[0m\u001b[0mmode\u001b[0m\u001b[0;34m)\u001b[0m\u001b[0;34m\u001b[0m\u001b[0m\n\u001b[1;32m     30\u001b[0m         \u001b[0mdecrypted\u001b[0m \u001b[0;34m=\u001b[0m \u001b[0mself\u001b[0m\u001b[0;34m.\u001b[0m\u001b[0munpad\u001b[0m\u001b[0;34m(\u001b[0m\u001b[0mcipher\u001b[0m\u001b[0;34m.\u001b[0m\u001b[0mdecrypt\u001b[0m\u001b[0;34m(\u001b[0m\u001b[0menc_bytes\u001b[0m\u001b[0;34m)\u001b[0m\u001b[0;34m)\u001b[0m\u001b[0;34m\u001b[0m\u001b[0m\n",
      "\u001b[0;32m/home/zch/.pyenv/versions/2.7.18/lib/python2.7/encodings/utf_8.pyc\u001b[0m in \u001b[0;36mdecode\u001b[0;34m(input, errors)\u001b[0m\n\u001b[1;32m     14\u001b[0m \u001b[0;34m\u001b[0m\u001b[0m\n\u001b[1;32m     15\u001b[0m \u001b[0;32mdef\u001b[0m \u001b[0mdecode\u001b[0m\u001b[0;34m(\u001b[0m\u001b[0minput\u001b[0m\u001b[0;34m,\u001b[0m \u001b[0merrors\u001b[0m\u001b[0;34m=\u001b[0m\u001b[0;34m'strict'\u001b[0m\u001b[0;34m)\u001b[0m\u001b[0;34m:\u001b[0m\u001b[0;34m\u001b[0m\u001b[0m\n\u001b[0;32m---> 16\u001b[0;31m     \u001b[0;32mreturn\u001b[0m \u001b[0mcodecs\u001b[0m\u001b[0;34m.\u001b[0m\u001b[0mutf_8_decode\u001b[0m\u001b[0;34m(\u001b[0m\u001b[0minput\u001b[0m\u001b[0;34m,\u001b[0m \u001b[0merrors\u001b[0m\u001b[0;34m,\u001b[0m \u001b[0mTrue\u001b[0m\u001b[0;34m)\u001b[0m\u001b[0;34m\u001b[0m\u001b[0m\n\u001b[0m\u001b[1;32m     17\u001b[0m \u001b[0;34m\u001b[0m\u001b[0m\n\u001b[1;32m     18\u001b[0m \u001b[0;32mclass\u001b[0m \u001b[0mIncrementalEncoder\u001b[0m\u001b[0;34m(\u001b[0m\u001b[0mcodecs\u001b[0m\u001b[0;34m.\u001b[0m\u001b[0mIncrementalEncoder\u001b[0m\u001b[0;34m)\u001b[0m\u001b[0;34m:\u001b[0m\u001b[0;34m\u001b[0m\u001b[0m\n",
      "\u001b[0;31mUnicodeEncodeError\u001b[0m: 'ascii' codec can't encode characters in position 8-9: ordinal not in range(128)"
     ]
    }
   ],
   "source": [
    "aes_cipher = AESCipher(key)\n",
    "pageNum = 1\n",
    "pageSize = 100\n",
    "\n",
    "headers = {\n",
    "    \"Content-Type\": \"application/json\",\n",
    "    \"ticket\": ticket\n",
    "}\n",
    "request_payload = {\n",
    "    \"loginName\": loginName,\n",
    "    \"passWord\": passWord,\n",
    "    \"company\": companies[0],\n",
    "    \"pageNum\": pageNum,\n",
    "    \"pageSize\": pageSize,\n",
    "    \"flag\": 1\n",
    "}\n",
    "\n",
    "encrypted_payload = aes_cipher.encrypt(json.dumps(request_payload))\n",
    "\n",
    "response = requests.post(api_url, data=encrypted_payload, headers=headers)\n",
    "\n",
    "assert response.status_code == 200, \"Request failed with status code {}\".format(response.status_code)\n",
    "\n",
    "\n",
    "decrypted_response = aes_cipher.decrypt(response.text)\n",
    "\n",
    "print decrypted_response\n",
    "    \n",
    "#         try:\n",
    "#             decrypted_response = aes_cipher.decrypt(response.text)\n",
    "#         except Exception as e:\n",
    "#             print \"Decryption failed for page \" + str(pageNum)\n",
    "#             print \"Response text: \" + response.text\n",
    "#             break\n",
    "\n",
    "#         response_data = json.loads(decrypted_response)\n",
    "\n",
    "#         if \"code\" not in response_data or response_data[\"code\"] != 1000:\n",
    "#             print \"Error in response: \" + response_data.get('msg', 'No message')\n",
    "#             print \"Full response: \" + response_data\n",
    "#             break\n",
    "\n",
    "#         data = response_data.get(\"data\")\n",
    "#         if not data:\n",
    "#             print \"No data field in response\"\n",
    "#             break\n",
    "\n",
    "#         hashMap = data.get(\"hashMap\")\n",
    "#         if not hashMap:\n",
    "#             print \"No hashMap field in data\"\n",
    "#             break\n",
    "\n",
    "#         for table_name in all_data.keys():\n",
    "#             table_data = hashMap.get(table_name)\n",
    "#             if table_data:\n",
    "#                 all_data[table_name].extend(table_data)\n",
    "\n",
    "#         if pageNum >= data.get(\"pages\", 0):\n",
    "#             break\n",
    "\n",
    "#         pageNum += 1\n"
   ]
  },
  {
   "cell_type": "code",
   "execution_count": 19,
   "metadata": {},
   "outputs": [
    {
     "data": {
      "text/plain": [
       "6"
      ]
     },
     "execution_count": 19,
     "metadata": {},
     "output_type": "execute_result"
    }
   ],
   "source": [
    "len('我是')"
   ]
  }
 ],
 "metadata": {
  "kernelspec": {
   "display_name": "Python 3",
   "language": "python",
   "name": "python3"
  },
  "language_info": {
   "codemirror_mode": {
    "name": "ipython",
    "version": 2
   },
   "file_extension": ".py",
   "mimetype": "text/x-python",
   "name": "python",
   "nbconvert_exporter": "python",
   "pygments_lexer": "ipython2",
   "version": "3.12.7"
  }
 },
 "nbformat": 4,
 "nbformat_minor": 2
}
