{
 "cells": [
  {
   "cell_type": "code",
   "execution_count": 19,
   "id": "46a19dd9-1b2e-42b9-9c96-11eb8c3cb02c",
   "metadata": {},
   "outputs": [],
   "source": [
    "import sqlglot\n",
    "from sqlglot.optimizer import optimizer"
   ]
  },
  {
   "cell_type": "code",
   "execution_count": 2,
   "id": "f8d05384-776f-4e8d-9506-3ae541b7655e",
   "metadata": {},
   "outputs": [],
   "source": [
    "sql = \"\"\"\n",
    "select distinct\n",
    "    md5(concat_ws('-', type, inviteno, dwbm, cgdwbm, compare_time)) as uuid,\n",
    "    '0' as onuse,\n",
    "    cast(null as datetime) as etl_time,\n",
    "    strleft(dwbm, 3) as zgqybm,\n",
    "    type,\n",
    "    inviteno,\n",
    "    invitedesc,\n",
    "    dwbm,\n",
    "    dwmc,\n",
    "    cgdwbm,\n",
    "    cgdwmc,\n",
    "    compare_time,\n",
    "    tyshxydm,\n",
    "    frsfz,\n",
    "    fr\n",
    "from\n",
    "    (\n",
    "        with\n",
    "            ac as (\n",
    "                select\n",
    "                    a.dwbm,\n",
    "                    a.dwmc,\n",
    "                    a.busi_releasetime,\n",
    "                    a.busi_releaseflag,\n",
    "                    c.inviteno,\n",
    "                    c.inviteid,\n",
    "                    c.invitedesc,\n",
    "                    c.inviteschemeid,\n",
    "                    c.invitecorpcode as cgdwbm,\n",
    "                    c.invitecorpdesc as cgdwmc\n",
    "                from\n",
    "                    dw_ods_dsep.ods_cg_ztb_bid as a\n",
    "                    inner join dw_ods_dsep.ods_cg_ztb_invite as c on \n",
    "                        a.inviteid = c.inviteid\n",
    "            ),\n",
    "            main as (\n",
    "                select\n",
    "                    'zb' as type,\n",
    "                    ac.inviteno,\n",
    "                    ac.invitedesc,\n",
    "                    ac.dwbm,\n",
    "                    ac.dwmc,\n",
    "                    ac.cgdwbm,\n",
    "                    ac.cgdwmc,\n",
    "                    ac.busi_releasetime as compare_time\n",
    "                from\n",
    "                    ac\n",
    "                    inner join dw_ods_dsep.ods_cg_ztb_invitescheme as b on \n",
    "                        b.inviteschemeid = ac.inviteschemeid\n",
    "                where\n",
    "                    ac.busi_releaseflag = '1'\n",
    "                union all\n",
    "                select\n",
    "                    'zb' as type,\n",
    "                    ac.inviteno,\n",
    "                    ac.invitedesc,\n",
    "                    ac.dwbm,\n",
    "                    ac.dwmc,\n",
    "                    ac.cgdwbm,\n",
    "                    ac.cgdwmc,\n",
    "                    b.audittime as compare_time\n",
    "                from\n",
    "                    ac\n",
    "                    inner join dw_ods_dsep.ods_cg_ztb_busiaudit as b on \n",
    "                        b.inviteid = ac.inviteid\n",
    "                where\n",
    "                    b.auditflag = '2'\n",
    "                union all\n",
    "                select\n",
    "                    'zb' as type,\n",
    "                    ac.inviteno,\n",
    "                    ac.invitedesc,\n",
    "                    ac.dwbm,\n",
    "                    ac.dwmc,\n",
    "                    ac.cgdwbm,\n",
    "                    ac.cgdwmc,\n",
    "                    b.audittime as compare_time\n",
    "                from\n",
    "                    ac\n",
    "                    inner join dw_ods_dsep.ods_cg_ztb_integrateaudit as b on \n",
    "                        b.inviteid = ac.inviteid\n",
    "                where\n",
    "                    b.auditflag = '2'\n",
    "                union all\n",
    "                select\n",
    "                    'ht' as type,\n",
    "                    htbm,\n",
    "                    htmc,\n",
    "                    dwbm,\n",
    "                    dwmc,\n",
    "                    xfdm,\n",
    "                    xfmc,\n",
    "                    sprq as compare_time\n",
    "                from\n",
    "                    dw_ods_dsep.ods_cg_cght\n",
    "                where\n",
    "                    swbz = '2'\n",
    "            )\n",
    "        select\n",
    "            main.*,\n",
    "            g.yyzz as tyshxydm,\n",
    "            g.frsfz,\n",
    "            g.fr\n",
    "        from\n",
    "            main\n",
    "            inner join dw_ods_dsep.ods_cg_xtghdw as g on \n",
    "                g.dwbm = main.dwbm\n",
    "    ) as ads\n",
    "\"\"\""
   ]
  },
  {
   "cell_type": "code",
   "execution_count": 26,
   "id": "90e04223-28dc-4662-923f-3b0051459268",
   "metadata": {},
   "outputs": [
    {
     "data": {
      "text/plain": [
       "\"SELECT DISTINCT MD5(CONCAT_WS('-', type, inviteno, dwbm, cgdwbm, compare_time)) AS uuid, '0' AS onuse, CAST(NULL AS DATETIME) AS etl_time, STRLEFT(dwbm, 3) AS zgqybm, type, inviteno, invitedesc, dwbm, dwmc, cgdwbm, cgdwmc, compare_time, tyshxydm, frsfz, fr FROM (WITH ac AS (SELECT a.dwbm, a.dwmc, a.busi_releasetime, a.busi_releaseflag, c.inviteno, c.inviteid, c.invitedesc, c.inviteschemeid, c.invitecorpcode AS cgdwbm, c.invitecorpdesc AS cgdwmc FROM dw_ods_dsep.ods_cg_ztb_bid AS a INNER JOIN dw_ods_dsep.ods_cg_ztb_invite AS c ON a.inviteid = c.inviteid), main AS (SELECT 'zb' AS type, ac.inviteno, ac.invitedesc, ac.dwbm, ac.dwmc, ac.cgdwbm, ac.cgdwmc, ac.busi_releasetime AS compare_time FROM ac INNER JOIN dw_ods_dsep.ods_cg_ztb_invitescheme AS b ON b.inviteschemeid = ac.inviteschemeid WHERE ac.busi_releaseflag = '1' UNION ALL SELECT 'zb' AS type, ac.inviteno, ac.invitedesc, ac.dwbm, ac.dwmc, ac.cgdwbm, ac.cgdwmc, b.audittime AS compare_time FROM ac INNER JOIN dw_ods_dsep.ods_cg_ztb_busiaudit AS b ON b.inviteid = ac.inviteid WHERE b.auditflag = '2' UNION ALL SELECT 'zb' AS type, ac.inviteno, ac.invitedesc, ac.dwbm, ac.dwmc, ac.cgdwbm, ac.cgdwmc, b.audittime AS compare_time FROM ac INNER JOIN dw_ods_dsep.ods_cg_ztb_integrateaudit AS b ON b.inviteid = ac.inviteid WHERE b.auditflag = '2' UNION ALL SELECT 'ht' AS type, htbm, htmc, dwbm, dwmc, xfdm, xfmc, sprq AS compare_time FROM dw_ods_dsep.ods_cg_cght WHERE swbz = '2') SELECT main.*, g.yyzz AS tyshxydm, g.frsfz, g.fr FROM main INNER JOIN dw_ods_dsep.ods_cg_xtghdw AS g ON g.dwbm = main.dwbm) AS ads\""
      ]
     },
     "execution_count": 26,
     "metadata": {},
     "output_type": "execute_result"
    }
   ],
   "source": [
    "optimizer.merge_subqueries(sqlglot.parse_one(sql)).sql(dialect='mysql')"
   ]
  },
  {
   "cell_type": "code",
   "execution_count": 7,
   "id": "726c5ffe-5245-411e-b658-db032d7abd57",
   "metadata": {},
   "outputs": [
    {
     "data": {
      "text/plain": [
       "\"SELECT DISTINCT MD5(CONCAT_WS('-', type, inviteno, dwbm, cgdwbm, compare_time)) AS uuid, '0' AS onuse, CAST(NULL AS DATETIME) AS etl_time, STRLEFT(dwbm, 3) AS zgqybm, type, inviteno, invitedesc, dwbm, dwmc, cgdwbm, cgdwmc, compare_time, tyshxydm, frsfz, fr FROM (WITH ac AS (SELECT a.dwbm, a.dwmc, a.busi_releasetime, a.busi_releaseflag, c.inviteno, c.inviteid, c.invitedesc, c.inviteschemeid, c.invitecorpcode AS cgdwbm, c.invitecorpdesc AS cgdwmc FROM dw_ods_dsep.ods_cg_ztb_bid AS a INNER JOIN dw_ods_dsep.ods_cg_ztb_invite AS c ON a.inviteid = c.inviteid), main AS (SELECT 'zb' AS type, ac.inviteno, ac.invitedesc, ac.dwbm, ac.dwmc, ac.cgdwbm, ac.cgdwmc, ac.busi_releasetime AS compare_time FROM ac INNER JOIN dw_ods_dsep.ods_cg_ztb_invitescheme AS b ON b.inviteschemeid = ac.inviteschemeid WHERE ac.busi_releaseflag = '1' UNION ALL SELECT 'zb' AS type, ac.inviteno, ac.invitedesc, ac.dwbm, ac.dwmc, ac.cgdwbm, ac.cgdwmc, b.audittime AS compare_time FROM ac INNER JOIN dw_ods_dsep.ods_cg_ztb_busiaudit AS b ON b.inviteid = ac.inviteid WHERE b.auditflag = '2' UNION ALL SELECT 'zb' AS type, ac.inviteno, ac.invitedesc, ac.dwbm, ac.dwmc, ac.cgdwbm, ac.cgdwmc, b.audittime AS compare_time FROM ac INNER JOIN dw_ods_dsep.ods_cg_ztb_integrateaudit AS b ON b.inviteid = ac.inviteid WHERE b.auditflag = '2' UNION ALL SELECT 'ht' AS type, htbm, htmc, dwbm, dwmc, xfdm, xfmc, sprq AS compare_time FROM dw_ods_dsep.ods_cg_cght WHERE swbz = '2') SELECT main.*, g.yyzz AS tyshxydm, g.frsfz, g.fr FROM main INNER JOIN dw_ods_dsep.ods_cg_xtghdw AS g ON g.dwbm = main.dwbm) AS ads\""
      ]
     },
     "execution_count": 7,
     "metadata": {},
     "output_type": "execute_result"
    }
   ],
   "source": [
    "sqlglot.transpile(sql, read='doris', write='mysql')[0]"
   ]
  },
  {
   "cell_type": "code",
   "execution_count": 9,
   "id": "17b747b4-1992-4b2a-a206-c3bc8f284d2d",
   "metadata": {},
   "outputs": [
    {
     "data": {
      "text/plain": [
       "\u001b[0;31mInit signature:\u001b[0m\n",
       "\u001b[0msqlglot\u001b[0m\u001b[0;34m.\u001b[0m\u001b[0mgenerator\u001b[0m\u001b[0;34m.\u001b[0m\u001b[0mGenerator\u001b[0m\u001b[0;34m(\u001b[0m\u001b[0;34m\u001b[0m\n",
       "\u001b[0;34m\u001b[0m    \u001b[0mpretty\u001b[0m\u001b[0;34m:\u001b[0m \u001b[0;34m't.Optional[bool]'\u001b[0m \u001b[0;34m=\u001b[0m \u001b[0;32mNone\u001b[0m\u001b[0;34m,\u001b[0m\u001b[0;34m\u001b[0m\n",
       "\u001b[0;34m\u001b[0m    \u001b[0midentify\u001b[0m\u001b[0;34m:\u001b[0m \u001b[0;34m'str | bool'\u001b[0m \u001b[0;34m=\u001b[0m \u001b[0;32mFalse\u001b[0m\u001b[0;34m,\u001b[0m\u001b[0;34m\u001b[0m\n",
       "\u001b[0;34m\u001b[0m    \u001b[0mnormalize\u001b[0m\u001b[0;34m:\u001b[0m \u001b[0;34m'bool'\u001b[0m \u001b[0;34m=\u001b[0m \u001b[0;32mFalse\u001b[0m\u001b[0;34m,\u001b[0m\u001b[0;34m\u001b[0m\n",
       "\u001b[0;34m\u001b[0m    \u001b[0mpad\u001b[0m\u001b[0;34m:\u001b[0m \u001b[0;34m'int'\u001b[0m \u001b[0;34m=\u001b[0m \u001b[0;36m2\u001b[0m\u001b[0;34m,\u001b[0m\u001b[0;34m\u001b[0m\n",
       "\u001b[0;34m\u001b[0m    \u001b[0mindent\u001b[0m\u001b[0;34m:\u001b[0m \u001b[0;34m'int'\u001b[0m \u001b[0;34m=\u001b[0m \u001b[0;36m2\u001b[0m\u001b[0;34m,\u001b[0m\u001b[0;34m\u001b[0m\n",
       "\u001b[0;34m\u001b[0m    \u001b[0mnormalize_functions\u001b[0m\u001b[0;34m:\u001b[0m \u001b[0;34m't.Optional[str | bool]'\u001b[0m \u001b[0;34m=\u001b[0m \u001b[0;32mNone\u001b[0m\u001b[0;34m,\u001b[0m\u001b[0;34m\u001b[0m\n",
       "\u001b[0;34m\u001b[0m    \u001b[0munsupported_level\u001b[0m\u001b[0;34m:\u001b[0m \u001b[0;34m'ErrorLevel'\u001b[0m \u001b[0;34m=\u001b[0m \u001b[0;34m<\u001b[0m\u001b[0mErrorLevel\u001b[0m\u001b[0;34m.\u001b[0m\u001b[0mWARN\u001b[0m\u001b[0;34m:\u001b[0m \u001b[0;34m'WARN'\u001b[0m\u001b[0;34m>\u001b[0m\u001b[0;34m,\u001b[0m\u001b[0;34m\u001b[0m\n",
       "\u001b[0;34m\u001b[0m    \u001b[0mmax_unsupported\u001b[0m\u001b[0;34m:\u001b[0m \u001b[0;34m'int'\u001b[0m \u001b[0;34m=\u001b[0m \u001b[0;36m3\u001b[0m\u001b[0;34m,\u001b[0m\u001b[0;34m\u001b[0m\n",
       "\u001b[0;34m\u001b[0m    \u001b[0mleading_comma\u001b[0m\u001b[0;34m:\u001b[0m \u001b[0;34m'bool'\u001b[0m \u001b[0;34m=\u001b[0m \u001b[0;32mFalse\u001b[0m\u001b[0;34m,\u001b[0m\u001b[0;34m\u001b[0m\n",
       "\u001b[0;34m\u001b[0m    \u001b[0mmax_text_width\u001b[0m\u001b[0;34m:\u001b[0m \u001b[0;34m'int'\u001b[0m \u001b[0;34m=\u001b[0m \u001b[0;36m80\u001b[0m\u001b[0;34m,\u001b[0m\u001b[0;34m\u001b[0m\n",
       "\u001b[0;34m\u001b[0m    \u001b[0mcomments\u001b[0m\u001b[0;34m:\u001b[0m \u001b[0;34m'bool'\u001b[0m \u001b[0;34m=\u001b[0m \u001b[0;32mTrue\u001b[0m\u001b[0;34m,\u001b[0m\u001b[0;34m\u001b[0m\n",
       "\u001b[0;34m\u001b[0m    \u001b[0mdialect\u001b[0m\u001b[0;34m:\u001b[0m \u001b[0;34m'DialectType'\u001b[0m \u001b[0;34m=\u001b[0m \u001b[0;32mNone\u001b[0m\u001b[0;34m,\u001b[0m\u001b[0;34m\u001b[0m\n",
       "\u001b[0;34m\u001b[0m\u001b[0;34m)\u001b[0m\u001b[0;34m\u001b[0m\u001b[0;34m\u001b[0m\u001b[0m\n",
       "\u001b[0;31mDocstring:\u001b[0m     \n",
       "Generator converts a given syntax tree to the corresponding SQL string.\n",
       "\n",
       "Args:\n",
       "    pretty: Whether to format the produced SQL string.\n",
       "        Default: False.\n",
       "    identify: Determines when an identifier should be quoted. Possible values are:\n",
       "        False (default): Never quote, except in cases where it's mandatory by the dialect.\n",
       "        True or 'always': Always quote.\n",
       "        'safe': Only quote identifiers that are case insensitive.\n",
       "    normalize: Whether to normalize identifiers to lowercase.\n",
       "        Default: False.\n",
       "    pad: The pad size in a formatted string. For example, this affects the indentation of\n",
       "        a projection in a query, relative to its nesting level.\n",
       "        Default: 2.\n",
       "    indent: The indentation size in a formatted string. For example, this affects the\n",
       "        indentation of subqueries and filters under a `WHERE` clause.\n",
       "        Default: 2.\n",
       "    normalize_functions: How to normalize function names. Possible values are:\n",
       "        \"upper\" or True (default): Convert names to uppercase.\n",
       "        \"lower\": Convert names to lowercase.\n",
       "        False: Disables function name normalization.\n",
       "    unsupported_level: Determines the generator's behavior when it encounters unsupported expressions.\n",
       "        Default ErrorLevel.WARN.\n",
       "    max_unsupported: Maximum number of unsupported messages to include in a raised UnsupportedError.\n",
       "        This is only relevant if unsupported_level is ErrorLevel.RAISE.\n",
       "        Default: 3\n",
       "    leading_comma: Whether the comma is leading or trailing in select expressions.\n",
       "        This is only relevant when generating in pretty mode.\n",
       "        Default: False\n",
       "    max_text_width: The max number of characters in a segment before creating new lines in pretty mode.\n",
       "        The default is on the smaller end because the length only represents a segment and not the true\n",
       "        line length.\n",
       "        Default: 80\n",
       "    comments: Whether to preserve comments in the output SQL code.\n",
       "        Default: True\n",
       "\u001b[0;31mFile:\u001b[0m           ~/.cache/pypoetry/virtualenvs/lab-home-wtptIbf4-py3.12/lib/python3.12/site-packages/sqlglot/generator.py\n",
       "\u001b[0;31mType:\u001b[0m           _Generator\n",
       "\u001b[0;31mSubclasses:\u001b[0m     Generator, Generator, Generator, Generator, Generator, Generator, Generator, Generator, Generator, Generator, ..."
      ]
     },
     "metadata": {},
     "output_type": "display_data"
    }
   ],
   "source": [
    "sqlglot.generator.Generator?"
   ]
  },
  {
   "cell_type": "code",
   "execution_count": null,
   "id": "94ece80f-ce25-406e-bb2b-75d6744f2fc3",
   "metadata": {},
   "outputs": [],
   "source": []
  }
 ],
 "metadata": {
  "kernelspec": {
   "display_name": "Python 3 (ipykernel)",
   "language": "python",
   "name": "python3"
  },
  "language_info": {
   "codemirror_mode": {
    "name": "ipython",
    "version": 3
   },
   "file_extension": ".py",
   "mimetype": "text/x-python",
   "name": "python",
   "nbconvert_exporter": "python",
   "pygments_lexer": "ipython3",
   "version": "3.12.3"
  }
 },
 "nbformat": 4,
 "nbformat_minor": 5
}
