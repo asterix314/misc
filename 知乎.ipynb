{
 "cells": [
  {
   "cell_type": "markdown",
   "id": "20a1e60e-7155-443a-96e4-d8fca17897b8",
   "metadata": {},
   "source": [
    "### [让港区充满大家的欢笑声吧！](让港区充满大家的欢笑声吧！)\n",
    "\n",
    "事先说明这是我在打舰娘游戏时朋友出的题。题中的Z18是只可爱舰娘（不过放图有点不合适就是了）。\n",
    "\n",
    "感谢“M逍遥”在表述上的指正。题主已根据想要表达的原意做出修改。\n",
    "\n",
    "题目如下：\n",
    "\n",
    "Z18，让港区充满大家的欢笑声吧！\n",
    "\n",
    "已知每个舰娘每天会随机遇到三个不同的舰娘，每次相遇仅能两两相遇，任意两天的相遇情况都独立，每一天中发生相遇的顺序随机。\n",
    "\n",
    "Z18具有状态「欢笑」，该状态的拥有舰娘能够使遇到的舰娘也拥有该状态。在第一天将Z18加入本来有15个无状态的舰娘的港区，然后开始这一天的随机相遇。请问当港区中所有舰娘都具有状态「欢笑」的概率首次超过50%时是第几天。\n",
    "\n",
    "我不清楚这道题是否表达严谨。本人也不仅是想要单纯一个答案。如果能够说明一下这道题涉及的知识以及学习的途径，我将不胜感激。（鞠躬）"
   ]
  },
  {
   "cell_type": "markdown",
   "id": "97399436-54c7-488d-9e29-b5a4fc1e3835",
   "metadata": {},
   "source": [
    "----"
   ]
  },
  {
   "cell_type": "markdown",
   "id": "bddab754-f4fe-4743-8fb7-6730757efcb9",
   "metadata": {},
   "source": [
    "✍️ 先捋一下题目的意思哈。一共有16只舰娘。第一天Z18将欢笑状态“传染”给另外3只舰娘，当天结束的时候共有4只欢笑的舰娘。第二天这4只舰娘可能只是在内部互相传染，也可能会传染给更多的舰娘，甚至是全部传染到。也就是说，每天结束时欢笑的舰娘数量是一个1到16上的概率分布，不妨记为$D_n$。$D_1$是：\n",
    "\n",
    "欢笑舰娘数|1|2|3|4|5|6|$\\cdots$|16\n",
    "--|--|--|--|--|--|--|--|--\n",
    "**概率**|0|0|0|**1**|0|0|$\\cdots$|0\n",
    "\n",
    "我们关心的是16只舰娘全被感染的概率即$D_n[16]$。这个概率随着$n$的增加应该是会增加且最后趋近于1的（群体免疫）。我们想知道当$D_n[16] > 0.5$时，$n$最小是几？"
   ]
  },
  {
   "cell_type": "code",
   "execution_count": 32,
   "id": "30c0e4a9-98fd-4baa-86a6-7dd32ac9e07e",
   "metadata": {},
   "outputs": [],
   "source": [
    "import duckdb\n",
    "from collections import defaultdict\n",
    "import numpy as np"
   ]
  },
  {
   "cell_type": "code",
   "execution_count": 33,
   "id": "83f348bc-1c1f-4cf9-8ded-7e6ba6f1e286",
   "metadata": {},
   "outputs": [],
   "source": [
    "sql = \"\"\"\n",
    "with recursive S1(s) as (  -- next-day scenarios resulting from a single happy ship (Z18)\n",
    "    from range(1 << 16) as r(i)\n",
    "    where i % 2 and bit_count(i) = 4), \n",
    "Sn(n, s, cnt) as ( -- next-day scenario counts resulting from n happy ships\n",
    "    from (values(0, 0, 1::double))\n",
    "    union all\n",
    "    select n+1, Sn.s | ((S1.s << n) & ((1 << 16) - 1) | (S1.s >> (16 - n))), sum(cnt)\n",
    "    from Sn cross join S1\n",
    "    where n < 16\n",
    "    group by all)\n",
    "select n as i, bit_count(s) as j, sum(cnt) / 455 ** n as p\n",
    "from Sn\n",
    "group by i, j\n",
    "order by i, j\n",
    "\"\"\""
   ]
  },
  {
   "cell_type": "code",
   "execution_count": 106,
   "id": "5a06ca20-4740-482f-8ebb-974375ee0ead",
   "metadata": {},
   "outputs": [
    {
     "data": {
      "text/plain": [
       "[0.0, 8.623555761118114e-06, 0.6251196309245242, 0.9824995734527541]"
      ]
     },
     "execution_count": 106,
     "metadata": {},
     "output_type": "execute_result"
    }
   ],
   "source": [
    "f1 = np.array([[1. if j == 4 else 0. for j in range(17)]])\n",
    "t = defaultdict(float, (((i,j), p) for (i,j,p) in duckdb.sql(sql).fetchall()))\n",
    "T = np.array([[t[i,j] for j in range(17)] for i in range(17)])\n",
    "\n",
    "def prob_all(n: int):\n",
    "    return (f1 @ np.linalg.matrix_power(T, n-1))[0, -1].item()\n",
    "\n",
    "[prob_all(n) for n in range(1, 5)]"
   ]
  },
  {
   "cell_type": "code",
   "execution_count": 108,
   "id": "82136c75-5104-404c-bbb7-f06434b96dde",
   "metadata": {},
   "outputs": [
    {
     "data": {
      "text/plain": [
       "[0.0,\n",
       " 8.623555761118114e-06,\n",
       " 0.6251196309245242,\n",
       " 0.9824995734527541,\n",
       " 0.9993758691434783]"
      ]
     },
     "execution_count": 108,
     "metadata": {},
     "output_type": "execute_result"
    }
   ],
   "source": [
    "[prob_all(n) for n in range(1, 6)]"
   ]
  },
  {
   "cell_type": "code",
   "execution_count": 15,
   "id": "0bd3b45e-612d-4a92-aec4-fd659ad604a4",
   "metadata": {},
   "outputs": [
    {
     "data": {
      "text/plain": [
       "float"
      ]
     },
     "execution_count": 15,
     "metadata": {},
     "output_type": "execute_result"
    }
   ],
   "source": [
    "type(t[3,5])"
   ]
  },
  {
   "cell_type": "code",
   "execution_count": 78,
   "id": "ed1e6d9a-bce5-4d0d-bee9-635f9ff06c46",
   "metadata": {},
   "outputs": [
    {
     "data": {
      "text/latex": [
       "$\\displaystyle \\left[\\begin{matrix}1\\\\2\\\\3\\\\4\\end{matrix}\\right]$"
      ],
      "text/plain": [
       "Matrix([\n",
       "[1],\n",
       "[2],\n",
       "[3],\n",
       "[4]])"
      ]
     },
     "execution_count": 78,
     "metadata": {},
     "output_type": "execute_result"
    }
   ],
   "source": [
    "Matrix([1,2,3,4])"
   ]
  },
  {
   "cell_type": "code",
   "execution_count": 73,
   "id": "dd025421-3e63-4820-87c4-d8fcdd2deb5f",
   "metadata": {},
   "outputs": [
    {
     "data": {
      "text/latex": [
       "$\\displaystyle -16.077751159668$"
      ],
      "text/plain": [
       "-16.0777511596680"
      ]
     },
     "execution_count": 73,
     "metadata": {},
     "output_type": "execute_result"
    }
   ],
   "source": [
    "((f1 * P * D**(n-1) * P.inv())[-1]).subs(n, 1)"
   ]
  },
  {
   "cell_type": "code",
   "execution_count": 68,
   "id": "db7b16fc-6a65-4a84-87a1-e6d07bdefbaa",
   "metadata": {},
   "outputs": [
    {
     "data": {
      "text/latex": [
       "$\\displaystyle \\left[\\begin{array}{ccccccccccccccccc}1 & 0 & 0 & 0 & 0 & 0 & 0 & 0 & 0 & 0 & 0 & 0 & 0 & 0 & 0 & 0 & 0\\\\0 & 1 & 0 & 0 & 0 & 0 & 0 & 0 & 0 & 0 & 0 & 0 & 0 & 0 & 0 & 0 & 0\\\\0 & 0 & 1 & 0 & 0 & 0 & 0 & 0 & 0 & 0 & 0 & 0 & 0 & 0 & 0 & 0 & 0\\\\0 & 0 & 0 & 1 & 0 & 0 & 0 & 0 & 0 & 0 & 0 & 0 & 0 & 0 & 0 & 0 & 0\\\\0 & 0 & 0 & 0 & 1 & 0 & 0 & 0 & 0 & 0 & 0 & 0 & 0 & 0 & 0 & 0 & 0\\\\0 & 0 & 0 & 0 & 0 & 1 & 0 & 0 & 0 & 0 & 0 & 0 & 0 & 0 & 0 & 0 & 0\\\\0 & 0 & 0 & 0 & 0 & 0 & 1 & 0 & 0 & 0 & 0 & 0 & 0 & 0 & 0 & 0 & 0\\\\0 & 0 & 0 & 0 & 0 & 0 & 0 & 1 & 0 & 0 & 0 & 0 & 0 & 0 & 0 & 0 & 0\\\\0 & 0 & 0 & 0 & 0 & 0 & 0 & 0 & 1 & 0 & 0 & 0 & 0 & 0 & 0 & 0 & 0\\\\0 & 0 & 0 & 0 & 0 & 0 & 0 & 0 & 0 & 1 & 0 & 0 & 0 & 0 & 0 & 0 & 0\\\\0 & 0 & 0 & 0 & 0 & 0 & 0 & 0 & 0 & 0 & 1 & 0 & 0 & 0 & 0 & 0 & 0\\\\0 & 0 & 0 & 0 & 0 & 0 & 0 & 0 & 0 & 0 & 0 & 1 & 0 & 0 & 0 & 0 & 0\\\\0 & 0 & 0 & 0 & 0 & 0 & 0 & 0 & 0 & 0 & 0 & 0 & 1 & 0 & 0 & 0 & 0\\\\0 & 0 & 0 & 0 & 0 & 0 & 0 & 0 & 0 & 0 & 0 & 0 & 0 & 1 & 0 & 0 & 0\\\\0 & 0 & 0 & 0 & 0 & 0 & 0 & 0 & 0 & 0 & 0 & 0 & 0 & 0 & 1 & 0 & 0\\\\0 & 0 & 0 & 0 & 0 & 0 & 0 & 0 & 0 & 0 & 0 & 0 & 0 & 0 & 0 & 1 & 0\\\\0 & 0 & 0 & 0 & 0 & 0 & 0 & 0 & 0 & 0 & 0 & 0 & 0 & 0 & 0 & 0 & 1\\end{array}\\right]$"
      ],
      "text/plain": [
       "Matrix([\n",
       "[1, 0, 0, 0, 0, 0, 0, 0, 0, 0, 0, 0, 0, 0, 0, 0, 0],\n",
       "[0, 1, 0, 0, 0, 0, 0, 0, 0, 0, 0, 0, 0, 0, 0, 0, 0],\n",
       "[0, 0, 1, 0, 0, 0, 0, 0, 0, 0, 0, 0, 0, 0, 0, 0, 0],\n",
       "[0, 0, 0, 1, 0, 0, 0, 0, 0, 0, 0, 0, 0, 0, 0, 0, 0],\n",
       "[0, 0, 0, 0, 1, 0, 0, 0, 0, 0, 0, 0, 0, 0, 0, 0, 0],\n",
       "[0, 0, 0, 0, 0, 1, 0, 0, 0, 0, 0, 0, 0, 0, 0, 0, 0],\n",
       "[0, 0, 0, 0, 0, 0, 1, 0, 0, 0, 0, 0, 0, 0, 0, 0, 0],\n",
       "[0, 0, 0, 0, 0, 0, 0, 1, 0, 0, 0, 0, 0, 0, 0, 0, 0],\n",
       "[0, 0, 0, 0, 0, 0, 0, 0, 1, 0, 0, 0, 0, 0, 0, 0, 0],\n",
       "[0, 0, 0, 0, 0, 0, 0, 0, 0, 1, 0, 0, 0, 0, 0, 0, 0],\n",
       "[0, 0, 0, 0, 0, 0, 0, 0, 0, 0, 1, 0, 0, 0, 0, 0, 0],\n",
       "[0, 0, 0, 0, 0, 0, 0, 0, 0, 0, 0, 1, 0, 0, 0, 0, 0],\n",
       "[0, 0, 0, 0, 0, 0, 0, 0, 0, 0, 0, 0, 1, 0, 0, 0, 0],\n",
       "[0, 0, 0, 0, 0, 0, 0, 0, 0, 0, 0, 0, 0, 1, 0, 0, 0],\n",
       "[0, 0, 0, 0, 0, 0, 0, 0, 0, 0, 0, 0, 0, 0, 1, 0, 0],\n",
       "[0, 0, 0, 0, 0, 0, 0, 0, 0, 0, 0, 0, 0, 0, 0, 1, 0],\n",
       "[0, 0, 0, 0, 0, 0, 0, 0, 0, 0, 0, 0, 0, 0, 0, 0, 1]])"
      ]
     },
     "execution_count": 68,
     "metadata": {},
     "output_type": "execute_result"
    }
   ],
   "source": [
    "D**0"
   ]
  },
  {
   "cell_type": "code",
   "execution_count": 56,
   "id": "17a4a8e6-8f63-4e10-8947-a408d9632054",
   "metadata": {},
   "outputs": [
    {
     "data": {
      "text/latex": [
       "$\\displaystyle 1.87725148508487$"
      ],
      "text/plain": [
       "1.87725148508487"
      ]
     },
     "execution_count": 56,
     "metadata": {},
     "output_type": "execute_result"
    }
   ],
   "source": [
    "eqn = (f1 * P * D**n * P.inv())[-1] - 0.5\n",
    "nsolve(eqn, n, 2)"
   ]
  },
  {
   "cell_type": "code",
   "execution_count": 47,
   "id": "b597d9a0-185e-49ff-ba48-822537eaac5c",
   "metadata": {},
   "outputs": [
    {
     "data": {
      "text/latex": [
       "$\\displaystyle 74558.1687465701 {0.00150302052266718}^{n} - 407.512469371554 {0.0351843720888321}^{n} + 0.999999999999987 {1.00000000000002}^{n} + 7.90880945754487 \\cdot 10^{15} {1.12701999218967 \\cdot 10^{-10}}^{n} + 294174343765505.0 {1.22589473984026 \\cdot 10^{-9}}^{n} + 4.24963078362239 \\cdot 10^{15} {2.33321313883066 \\cdot 10^{-11}}^{n} - 2.24743525950023 \\cdot 10^{15} {3.17051778022588 \\cdot 10^{-10}}^{n} - 28479908361.3184 {4.29406232203865 \\cdot 10^{-7}}^{n} + 955983687095.501 {4.59916397713268 \\cdot 10^{-8}}^{n} + 580903680.352262 {5.17214355835299 \\cdot 10^{-6}}^{n} - 1.01848180152393 \\cdot 10^{16} {5.2510115476101 \\cdot 10^{-11}}^{n} - 21289386840613.0 {6.48021885040287 \\cdot 10^{-9}}^{n} - 8109152.02010763 {7.89490110375161 \\cdot 10^{-5}}^{n}$"
      ],
      "text/plain": [
       "74558.1687465701*0.00150302052266718**n - 407.512469371554*0.0351843720888321**n + 0.999999999999987*1.00000000000002**n + 7.90880945754487e+15*1.12701999218967e-10**n + 294174343765505.0*1.22589473984026e-9**n + 4.24963078362239e+15*2.33321313883066e-11**n - 2.24743525950023e+15*3.17051778022588e-10**n - 28479908361.3184*4.29406232203865e-7**n + 955983687095.501*4.59916397713268e-8**n + 580903680.352262*5.17214355835299e-6**n - 1.01848180152393e+16*5.2510115476101e-11**n - 21289386840613.0*6.48021885040287e-9**n - 8109152.02010763*7.89490110375161e-5**n"
      ]
     },
     "execution_count": 47,
     "metadata": {},
     "output_type": "execute_result"
    }
   ],
   "source": [
    "(f1 * P * D**n * P.inv())[-1] "
   ]
  },
  {
   "cell_type": "code",
   "execution_count": 69,
   "id": "ab88c054-6769-416e-bbbd-61a78667dbc3",
   "metadata": {},
   "outputs": [
    {
     "data": {
      "text/latex": [
       "$\\displaystyle \\left[\\begin{array}{ccccccccccccccccc}1 & 0 & 0 & 0 & 0 & 0 & 0 & 0 & 0 & 0 & 0 & 0 & 0 & 0 & 0 & 0 & 0\\\\0 & 1 & 0 & 0 & 0 & 0 & 0 & 0 & 0 & 0 & 0 & 0 & 0 & 0 & 0 & 0 & 0\\\\0 & 0 & 1 & 0 & 0 & 0 & 0 & 0 & 0 & 0 & 0 & 0 & 0 & 0 & 0 & 0 & 0\\\\0 & 0 & 0 & 1 & 0 & 0 & 0 & 0 & 0 & 0 & 0 & 0 & 0 & 0 & 0 & 0 & 0\\\\0 & 0 & 0 & 0 & 1 & 0 & 0 & 0 & 0 & 0 & 0 & 0 & 0 & 0 & 0 & 0 & 0\\\\0 & 0 & 0 & 0 & 0 & 1 & 0 & 0 & 0 & 0 & 0 & 0 & 0 & 0 & 0 & 0 & 0\\\\0 & 0 & 0 & 0 & 0 & 0 & 1 & 0 & 0 & 0 & 0 & 0 & 0 & 0 & 0 & 0 & 0\\\\0 & 0 & 0 & 0 & 0 & 0 & 0 & 1 & 0 & 0 & 0 & 0 & 0 & 0 & 0 & 0 & 0\\\\0 & 0 & 0 & 0 & 0 & 0 & 0 & 0 & 1 & 0 & 0 & 0 & 0 & 0 & 0 & 0 & 0\\\\0 & 0 & 0 & 0 & 0 & 0 & 0 & 0 & 0 & 1 & 0 & 0 & 0 & 0 & 0 & 0 & 0\\\\0 & 0 & 0 & 0 & 0 & 0 & 0 & 0 & 0 & 0 & 1 & 0 & 0 & 0 & 0 & 0 & 0\\\\0 & 0 & 0 & 0 & 0 & 0 & 0 & 0 & 0 & 0 & 0 & 1 & 0 & 0 & 0 & 0 & 0\\\\0 & 0 & 0 & 0 & 0 & 0 & 0 & 0 & 0 & 0 & 0 & 0 & 1 & 0 & 0 & 0 & 0\\\\0 & 0 & 0 & 0 & 0 & 0 & 0 & 0 & 0 & 0 & 0 & 0 & 0 & 1 & 0 & 0 & 0\\\\0 & 0 & 0 & 0 & 0 & 0 & 0 & 0 & 0 & 0 & 0 & 0 & 0 & 0 & 1 & 0 & 0\\\\0 & 0 & 0 & 0 & 0 & 0 & 0 & 0 & 0 & 0 & 0 & 0 & 0 & 0 & 0 & 1 & 0\\\\0 & 0 & 0 & 0 & 0 & 0 & 0 & 0 & 0 & 0 & 0 & 0 & 0 & 0 & 0 & 0 & 1\\end{array}\\right]$"
      ],
      "text/plain": [
       "Matrix([\n",
       "[1, 0, 0, 0, 0, 0, 0, 0, 0, 0, 0, 0, 0, 0, 0, 0, 0],\n",
       "[0, 1, 0, 0, 0, 0, 0, 0, 0, 0, 0, 0, 0, 0, 0, 0, 0],\n",
       "[0, 0, 1, 0, 0, 0, 0, 0, 0, 0, 0, 0, 0, 0, 0, 0, 0],\n",
       "[0, 0, 0, 1, 0, 0, 0, 0, 0, 0, 0, 0, 0, 0, 0, 0, 0],\n",
       "[0, 0, 0, 0, 1, 0, 0, 0, 0, 0, 0, 0, 0, 0, 0, 0, 0],\n",
       "[0, 0, 0, 0, 0, 1, 0, 0, 0, 0, 0, 0, 0, 0, 0, 0, 0],\n",
       "[0, 0, 0, 0, 0, 0, 1, 0, 0, 0, 0, 0, 0, 0, 0, 0, 0],\n",
       "[0, 0, 0, 0, 0, 0, 0, 1, 0, 0, 0, 0, 0, 0, 0, 0, 0],\n",
       "[0, 0, 0, 0, 0, 0, 0, 0, 1, 0, 0, 0, 0, 0, 0, 0, 0],\n",
       "[0, 0, 0, 0, 0, 0, 0, 0, 0, 1, 0, 0, 0, 0, 0, 0, 0],\n",
       "[0, 0, 0, 0, 0, 0, 0, 0, 0, 0, 1, 0, 0, 0, 0, 0, 0],\n",
       "[0, 0, 0, 0, 0, 0, 0, 0, 0, 0, 0, 1, 0, 0, 0, 0, 0],\n",
       "[0, 0, 0, 0, 0, 0, 0, 0, 0, 0, 0, 0, 1, 0, 0, 0, 0],\n",
       "[0, 0, 0, 0, 0, 0, 0, 0, 0, 0, 0, 0, 0, 1, 0, 0, 0],\n",
       "[0, 0, 0, 0, 0, 0, 0, 0, 0, 0, 0, 0, 0, 0, 1, 0, 0],\n",
       "[0, 0, 0, 0, 0, 0, 0, 0, 0, 0, 0, 0, 0, 0, 0, 1, 0],\n",
       "[0, 0, 0, 0, 0, 0, 0, 0, 0, 0, 0, 0, 0, 0, 0, 0, 1]])"
      ]
     },
     "execution_count": 69,
     "metadata": {},
     "output_type": "execute_result"
    }
   ],
   "source": [
    "D ** 0"
   ]
  },
  {
   "cell_type": "code",
   "execution_count": 42,
   "id": "a0e72ea7-2b5c-4513-88fe-67325fa537cd",
   "metadata": {},
   "outputs": [],
   "source": [
    "\n",
    "\n",
    "# list of scenarios impacted by the 0th bit\n",
    "scenarios_0th = [i for i in range(2 ** N_SHIPS) if i % 2 and i.bit_count() == 1 + CONTACTS]\n",
    "\n",
    "def scenarios_ith(i: int) -> list[int]:\n",
    "    \"\"\" list of senarios impacted by the ith bit \"\"\"\n",
    "    \n",
    "    def rol(s: int, i: int=1) -> int:\n",
    "        \"\"\" rotate s left by i bits \"\"\"\n",
    "        i %= N_SHIPS\n",
    "        return (s << i) & (2 ** N_SHIPS - 1) | (s >> (N_SHIPS - i))\n",
    "    \n",
    "    return [rol(s, i) for s in scenarios_0th]\n",
    "\n",
    "\n",
    "@cache\n",
    "def scenarios_by(n: int):\n",
    "    \"\"\" multiset (counter) of scenarios impacted by the lowest n bits \"\"\"\n",
    "    \n",
    "    assert 0 <= n <= N_SHIPS\n",
    "        \n",
    "    if n:\n",
    "        prod = product(scenarios_by(n-1).items(), scenarios_ith(n))\n",
    "        return sum((Counter({s1 | s2: cnt}) for (s1, cnt), s2 in prod), Counter())\n",
    "    else:\n",
    "        return Counter([0])"
   ]
  },
  {
   "cell_type": "code",
   "execution_count": null,
   "id": "ae4d419a-f0c0-43c7-a598-e84e83222dcd",
   "metadata": {},
   "outputs": [],
   "source": []
  },
  {
   "cell_type": "code",
   "execution_count": 43,
   "id": "e56a3167-5ef0-4a66-9f1e-69c6066608f2",
   "metadata": {},
   "outputs": [
    {
     "data": {
      "text/plain": [
       "Counter({30: 1,\n",
       "         46: 1,\n",
       "         54: 1,\n",
       "         58: 1,\n",
       "         78: 1,\n",
       "         86: 1,\n",
       "         90: 1,\n",
       "         102: 1,\n",
       "         106: 1,\n",
       "         114: 1,\n",
       "         142: 1,\n",
       "         150: 1,\n",
       "         154: 1,\n",
       "         166: 1,\n",
       "         170: 1,\n",
       "         178: 1,\n",
       "         198: 1,\n",
       "         202: 1,\n",
       "         210: 1,\n",
       "         226: 1,\n",
       "         15: 1,\n",
       "         23: 1,\n",
       "         27: 1,\n",
       "         39: 1,\n",
       "         43: 1,\n",
       "         51: 1,\n",
       "         71: 1,\n",
       "         75: 1,\n",
       "         83: 1,\n",
       "         99: 1,\n",
       "         135: 1,\n",
       "         139: 1,\n",
       "         147: 1,\n",
       "         163: 1,\n",
       "         195: 1})"
      ]
     },
     "execution_count": 43,
     "metadata": {},
     "output_type": "execute_result"
    }
   ],
   "source": []
  },
  {
   "cell_type": "code",
   "execution_count": 34,
   "id": "571c3a1b-6713-4014-90d5-18ddaf1d1d45",
   "metadata": {
    "scrolled": true
   },
   "outputs": [],
   "source": [
    "scenarios_by.cache_clear()"
   ]
  },
  {
   "cell_type": "code",
   "execution_count": null,
   "id": "76b32073-d1d5-479b-8c8d-d1767e960ddc",
   "metadata": {},
   "outputs": [],
   "source": []
  }
 ],
 "metadata": {
  "kernelspec": {
   "display_name": "Python 3 (ipykernel)",
   "language": "python",
   "name": "python3"
  },
  "language_info": {
   "codemirror_mode": {
    "name": "ipython",
    "version": 3
   },
   "file_extension": ".py",
   "mimetype": "text/x-python",
   "name": "python",
   "nbconvert_exporter": "python",
   "pygments_lexer": "ipython3",
   "version": "3.12.3"
  }
 },
 "nbformat": 4,
 "nbformat_minor": 5
}
